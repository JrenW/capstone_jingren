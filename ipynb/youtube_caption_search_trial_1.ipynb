{
 "cells": [
  {
   "cell_type": "markdown",
   "metadata": {},
   "source": [
    "<br>\n",
    "    Date: Oct.10.2019\n",
    "    \n",
    "    Mission: first trial on my youtube caption search project\n",
    "    \n",
    "    Description: \n",
    "        1. user input a YouTube URL;\n",
    "        2. program turn video content into a list of dictionaries, each dictionary contains a caption, its start time and duration;\n",
    "        3. ask user to input a keyword\n",
    "        4. program search through captions and return 'top' k search results: a list of k 'start' times of keyword mentioned in the video:\n",
    "        5. justify your choice of k, and rules of keyword ranking;\n",
    "        6. optional: research on python video player and play the video from given list of start times"
   ]
  },
  {
   "cell_type": "code",
   "execution_count": 442,
   "metadata": {
    "collapsed": true
   },
   "outputs": [],
   "source": [
    "# Successfully installed youtube-transcript-api-0.1.9"
   ]
  },
  {
   "cell_type": "code",
   "execution_count": 443,
   "metadata": {},
   "outputs": [],
   "source": [
    "from youtube_transcript_api import YouTubeTranscriptApi as YouTrans\n"
   ]
  },
  {
   "cell_type": "code",
   "execution_count": 479,
   "metadata": {
    "scrolled": true
   },
   "outputs": [
    {
     "name": "stdout",
     "output_type": "stream",
     "text": [
      "Please copy and paste a YouTube link: https://www.youtube.com/watch?v=y5VdtQSqiAI\n"
     ]
    }
   ],
   "source": [
    "# ask user to copy and paste a YouTube link\n",
    "URL = input('Please copy and paste a YouTube link: ')"
   ]
  },
  {
   "cell_type": "code",
   "execution_count": 480,
   "metadata": {},
   "outputs": [
    {
     "data": {
      "text/plain": [
       "'y5VdtQSqiAI'"
      ]
     },
     "execution_count": 480,
     "metadata": {},
     "output_type": "execute_result"
    }
   ],
   "source": [
    "# extract YouTube video id\n",
    "video_id = URL.split('?v=')[1]\n",
    "video_id "
   ]
  },
  {
   "cell_type": "code",
   "execution_count": 481,
   "metadata": {
    "collapsed": true
   },
   "outputs": [],
   "source": [
    "# get a list of dictionaries of time-stamped captions\n",
    "capDicts = YouTrans.get_transcript(video_id)\n",
    "# DONE!"
   ]
  },
  {
   "cell_type": "code",
   "execution_count": 536,
   "metadata": {
    "collapsed": true
   },
   "outputs": [],
   "source": [
    "### [more nuanced version]\n",
    "### to include the case that keyword split into adjacent captions\n",
    "\n",
    "# search through dictionaries for captions containing the keyword\n",
    "# kw_moments = [] # a list to store start time of keyword moments\n",
    "kw_indices = [] #a list to store index of valid start time\n",
    "\n",
    "# in case a two-word phrase is split into to captions\n",
    "for i in range(len(capDicts)):\n",
    "    caption_i = capDicts[i]['text']\n",
    "    for j in range(len(Kwords)):\n",
    "        if Kwords[j] in caption_i:   # normally run 2-3 times\n",
    "            time_stamp = capDicts[i]['start']   # fetch time stamp\n",
    "            kw_moments.append(time_stamp)\n",
    "            kw_indices.append(i)  # append indix\n",
    "            "
   ]
  },
  {
   "cell_type": "code",
   "execution_count": 537,
   "metadata": {
    "scrolled": true
   },
   "outputs": [
    {
     "name": "stdout",
     "output_type": "stream",
     "text": [
      "Please enter a keyword for caption search: let's\n"
     ]
    }
   ],
   "source": [
    "# ask user for a keyword \n",
    "keyword = input('Please enter a keyword for caption search: ')\n"
   ]
  },
  {
   "cell_type": "code",
   "execution_count": 538,
   "metadata": {
    "scrolled": true
   },
   "outputs": [
    {
     "name": "stdout",
     "output_type": "stream",
     "text": [
      "How many search results do you want?  10\n"
     ]
    }
   ],
   "source": [
    "k = int(input('How many search results do you want?  '))"
   ]
  },
  {
   "cell_type": "code",
   "execution_count": 539,
   "metadata": {},
   "outputs": [],
   "source": [
    "# split input into a list of words <str>\n",
    "# Kwords = kw.split()\n",
    "kw_moments = []\n",
    "kw_indices = []\n",
    "\n",
    "for i in range(len(capDicts)):\n",
    "    caption_i = capDicts[i]['text']\n",
    "    if keyword in caption_i:   # normally run 2-3 times\n",
    "        time_stamp = capDicts[i]['start']   # fetch time stamp\n",
    "        kw_moments.append(time_stamp)\n",
    "        kw_indices.append(i)  # append indix\n"
   ]
  },
  {
   "cell_type": "code",
   "execution_count": 540,
   "metadata": {
    "scrolled": true
   },
   "outputs": [
    {
     "name": "stdout",
     "output_type": "stream",
     "text": [
      "[42, 109, 242, 244, 299, 302, 315, 319, 321, 387, 396, 448, 453, 466, 469, 477, 490, 515, 517, 579, 652, 728]\n"
     ]
    }
   ],
   "source": [
    "print(kw_indices) "
   ]
  },
  {
   "cell_type": "code",
   "execution_count": 541,
   "metadata": {},
   "outputs": [
    {
     "name": "stdout",
     "output_type": "stream",
     "text": [
      "1\n",
      "3\n",
      "5\n",
      "7\n",
      "10\n",
      "12\n",
      "14\n",
      "16\n",
      "18\n",
      "21\n"
     ]
    }
   ],
   "source": [
    "results_indices = []\n",
    "\n",
    "if len(kw_indices) > k:  # return k results of uniform spread acorss video\n",
    "    for i in range(1, k+1):\n",
    "        idx = max(1, len(kw_indices)*i//k-1)\n",
    "        print(idx)\n",
    "        if kw_indices[idx] not in results_indices:\n",
    "            results_indices.append(kw_indices[idx])\n",
    "else: \n",
    "    results_indices = kw_indices"
   ]
  },
  {
   "cell_type": "code",
   "execution_count": 542,
   "metadata": {},
   "outputs": [
    {
     "name": "stdout",
     "output_type": "stream",
     "text": [
      "[109, 244, 302, 319, 396, 453, 469, 490, 517, 728]\n"
     ]
    }
   ],
   "source": [
    "print(results_indices)"
   ]
  },
  {
   "cell_type": "code",
   "execution_count": 543,
   "metadata": {
    "scrolled": true
   },
   "outputs": [
    {
     "name": "stdout",
     "output_type": "stream",
     "text": [
      "T_START: 350.65\n",
      "CAPTION: let's draw it right so it should say\n",
      "\n",
      "T_START: 923.579\n",
      "CAPTION: let's just make some observations about\n",
      "\n",
      "T_START: 1162.86\n",
      "CAPTION: some examples in a moment but let's just\n",
      "\n",
      "T_START: 1240.49\n",
      "CAPTION: let's look at the weighing problem which\n",
      "\n",
      "T_START: 1487.67\n",
      "CAPTION: it up and you get one fit okay so let's\n",
      "\n",
      "T_START: 1706.78\n",
      "CAPTION: arrived at cute all right let's go ahead\n",
      "\n",
      "T_START: 1758.11\n",
      "CAPTION: chat to your neighbor and let's get some\n",
      "\n",
      "T_START: 1911.409\n",
      "CAPTION: ah that's some nice suggestions let's\n",
      "\n",
      "T_START: 2030.019\n",
      "CAPTION: isn't it let's talk about the symmetric\n",
      "\n",
      "T_START: 2797.68\n",
      "CAPTION: so let's now go back to our idealized\n",
      "\n"
     ]
    }
   ],
   "source": [
    "# retrieve keyword time stamp and captions\n",
    "\n",
    "for idx in results_indices:\n",
    "    print('T_START:', capDicts[idx]['start'])\n",
    "    print('CAPTION:', capDicts[idx]['text'])\n",
    "    print('')\n",
    "    \n",
    "# looking good :D"
   ]
  },
  {
   "cell_type": "code",
   "execution_count": 518,
   "metadata": {
    "collapsed": true
   },
   "outputs": [],
   "source": [
    "# Congratulations!  Minimal version DONE!"
   ]
  },
  {
   "cell_type": "code",
   "execution_count": null,
   "metadata": {
    "collapsed": true
   },
   "outputs": [],
   "source": []
  },
  {
   "cell_type": "code",
   "execution_count": null,
   "metadata": {
    "collapsed": true
   },
   "outputs": [],
   "source": []
  }
 ],
 "metadata": {
  "kernelspec": {
   "display_name": "Python 3",
   "language": "python",
   "name": "python3"
  },
  "language_info": {
   "codemirror_mode": {
    "name": "ipython",
    "version": 3
   },
   "file_extension": ".py",
   "mimetype": "text/x-python",
   "name": "python",
   "nbconvert_exporter": "python",
   "pygments_lexer": "ipython3",
   "version": "3.6.9"
  }
 },
 "nbformat": 4,
 "nbformat_minor": 2
}
